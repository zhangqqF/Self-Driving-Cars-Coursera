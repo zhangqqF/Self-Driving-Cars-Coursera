{
 "cells": [
  {
   "cell_type": "markdown",
   "id": "cc22bab2",
   "metadata": {},
   "source": [
    "# Vehicle Model Predictive Control by python"
   ]
  },
  {
   "cell_type": "markdown",
   "id": "a02b9ab3",
   "metadata": {},
   "source": [
    ">zhangqq  \n",
    "Apr 14, 2023  \n",
    "Chongqing\n",
    "---"
   ]
  },
  {
   "cell_type": "markdown",
   "id": "f69c9506",
   "metadata": {},
   "source": [
    "<p align=center>\n",
    "<img src=./img/MPC_vehicleDynamic.png>\n",
    "</p>"
   ]
  },
  {
   "cell_type": "markdown",
   "id": "f608c4a2",
   "metadata": {},
   "source": [
    "## Kinematic Model\n",
    "车辆运动学模型:\n",
    "$$\n",
    "\\begin{bmatrix}\n",
    "    \\dot{X}_r \\\\\n",
    "    \\dot{Y}_r \\\\\n",
    "    \\dot{\\varphi} \\\\\n",
    "\\end{bmatrix}\n",
    "=\n",
    "\\begin{bmatrix}\n",
    "    \\cos \\varphi \\\\\n",
    "    \\sin \\varphi \\\\\n",
    "    \\tan{\\delta}/L \\\\\n",
    "\\end{bmatrix} v_r\n",
    "$$"
   ]
  },
  {
   "cell_type": "markdown",
   "id": "1bca5b56",
   "metadata": {},
   "source": [
    "该模型满足MPC控制方程：\n",
    "$$\n",
    "\\boldsymbol{\\dot\\xi}=f(\\boldsymbol{\\xi}, \\boldsymbol{u})\n",
    "$$\n",
    "其中$\\boldsymbol{\\xi}=[X_r, Y_r, \\varphi]^T$为状态量，$\\boldsymbol{u}=[v_r, \\delta]^T$ 为控制量。"
   ]
  },
  {
   "cell_type": "markdown",
   "id": "bf008a98",
   "metadata": {},
   "source": [
    "## Linearization\n",
    "$\\boldsymbol{{\\dot\\xi}={A}{\\xi}+{B}{u}}$A、B矩阵：\n",
    "$$\n",
    "\\boldsymbol A = \n",
    "\\begin{bmatrix}\n",
    "     0 & 0 & 0 \\\\\n",
    "     0 & 0 & 0 \\\\\n",
    "     0 & 0 & 0 \\\\\n",
    "\\end{bmatrix}\n",
    ",\\quad\n",
    "\\boldsymbol B = \n",
    "\\begin{bmatrix}\n",
    "     0 & 0 & 0 \\\\\n",
    "     0 & 0 & 0 \\\\\n",
    "     0 & 0 & 0 \\\\\n",
    "\\end{bmatrix}\n",
    "$$"
   ]
  },
  {
   "attachments": {},
   "cell_type": "markdown",
   "id": "ff5abfd6",
   "metadata": {},
   "source": []
  },
  {
   "cell_type": "code",
   "execution_count": null,
   "id": "a8461693",
   "metadata": {},
   "outputs": [],
   "source": []
  }
 ],
 "metadata": {
  "kernelspec": {
   "display_name": "Python 3 (ipykernel)",
   "language": "python",
   "name": "python3"
  },
  "language_info": {
   "codemirror_mode": {
    "name": "ipython",
    "version": 3
   },
   "file_extension": ".py",
   "mimetype": "text/x-python",
   "name": "python",
   "nbconvert_exporter": "python",
   "pygments_lexer": "ipython3",
   "version": "3.9.16"
  }
 },
 "nbformat": 4,
 "nbformat_minor": 5
}
