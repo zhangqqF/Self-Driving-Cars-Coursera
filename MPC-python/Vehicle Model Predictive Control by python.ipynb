{
 "cells": [
  {
   "cell_type": "markdown",
   "id": "28925a19",
   "metadata": {},
   "source": [
    "# Vehicle Model Predictive Control by python"
   ]
  },
  {
   "cell_type": "markdown",
   "id": "ef8aece5",
   "metadata": {},
   "source": [
    ">zhangqq  \n",
    ">Apr 14, 2023  \n",
    ">Chongqing\n",
    "---"
   ]
  },
  {
   "cell_type": "markdown",
   "id": "b6979be1",
   "metadata": {},
   "source": [
    "<p align=center>\n",
    "<img src=../img/MPC_vehicleDynamic.png>\n",
    "</p>"
   ]
  },
  {
   "cell_type": "markdown",
   "id": "cf57814b",
   "metadata": {},
   "source": [
    "## Kinematic Model\n",
    "车辆运动学模型:\n",
    "$$\n",
    "\\begin{bmatrix}\n",
    "    \\dot{X}_r \\\\\n",
    "    \\dot{Y}_r \\\\\n",
    "    \\dot{\\varphi} \\\\\n",
    "\\end{bmatrix}\n",
    "=\n",
    "\\begin{bmatrix}\n",
    "    \\cos \\varphi \\\\\n",
    "    \\sin \\varphi \\\\\n",
    "    \\tan{\\delta}/L \\\\\n",
    "\\end{bmatrix} v_r\n",
    "$$"
   ]
  },
  {
   "cell_type": "markdown",
   "id": "4213602a",
   "metadata": {},
   "source": [
    "该模型满足MPC控制方程：\n",
    "$$\n",
    "\\boldsymbol{\\dot\\xi}=f(\\boldsymbol{\\xi}, \\boldsymbol{u}) \\tag{1}\n",
    "$$\n",
    "其中$\\boldsymbol{\\xi}=[X_r, Y_r, \\varphi]^T$为状态量，$\\boldsymbol{u}=[v_r, \\delta]^T$ 为控制量。"
   ]
  },
  {
   "cell_type": "markdown",
   "id": "4ef7b150",
   "metadata": {},
   "source": [
    "## Linearization\n",
    "线性化后的方程为：\n",
    "$$\n",
    "\\boldsymbol{\\dot{\\tilde{\\xi}}=A\\tilde{\\xi} + B\\tilde{u}} \\tag{2}\n",
    "$$\n",
    "其中：\n",
    "$$\n",
    "A = \n",
    "\\begin{bmatrix}\n",
    "\t0 & 0 & -v_r\\sin\\varphi \\\\\n",
    "\t0 & 0 &  v_r\\cos\\varphi \\\\\n",
    "\t0 & 0 & 0\n",
    "\\end{bmatrix}\n",
    ",\\quad\n",
    "B = \n",
    "\\begin{bmatrix}\n",
    "\t\\cos\\varphi & 0 \\\\\n",
    "\t\\sin\\varphi & 0 \\\\\n",
    "\t\\frac{\\tan\\delta}{L} & \\frac{v_r}{L\\cos^2\\delta}\n",
    "\\end{bmatrix}\n",
    "$$"
   ]
  },
  {
   "cell_type": "markdown",
   "id": "35387c99",
   "metadata": {},
   "source": [
    "# Discretization\n",
    "离散化后的方程：\n",
    "$$\n",
    "\\boldsymbol{\\dot{\\tilde{\\xi}}=A\\tilde{\\xi} + B\\tilde{u}} \\tag{3}\n",
    "$$\n",
    "表达式与式（2）一样，但A、B矩阵不同。\n",
    "$$\n",
    "\\boldsymbol A = \n",
    "\\begin{bmatrix}\n",
    "\t0 & 0 & -Tv_r\\sin\\varphi \\\\\n",
    "\t0 & 0 &  Tv_r\\cos\\varphi \\\\\n",
    "\t0 & 0 & 1\n",
    "\\end{bmatrix}\n",
    ",\\quad\n",
    "\\boldsymbol B = \n",
    "\\begin{bmatrix}\n",
    "\tT\\cos\\varphi & 0 \\\\\n",
    "\tT\\sin\\varphi & 0 \\\\\n",
    "\tT\\frac{\\tan\\delta}{L} & T\\frac{v_r}{L\\cos^2\\delta}\n",
    "\\end{bmatrix}\n",
    "$$"
   ]
  },
  {
   "cell_type": "markdown",
   "id": "c6dcd2d6",
   "metadata": {},
   "source": [
    "## Predict\n",
    "预测模型：\n",
    "$$\n",
    "\\boldsymbol{Y}=\\boldsymbol{\\phi\\xi}_{k}+\\boldsymbol{\\theta U}\n",
    "$$\n",
    "其中：\n",
    "$$\n",
    "\\boldsymbol{Y}=\n",
    "\\begin{bmatrix}\n",
    "\t\\boldsymbol{\\tilde\\xi}_{(k+1)} \\\\\n",
    "\t\\boldsymbol{\\tilde\\xi}_{(k+2)} \\\\\n",
    "\t\\vdots \\\\\n",
    "\t\\boldsymbol{\\tilde\\xi}_{(k+Np)} \\\\\n",
    "\\end{bmatrix}\n",
    ",\\quad\n",
    "\\boldsymbol{\\phi}=\n",
    "\\begin{bmatrix}\n",
    "\t\\boldsymbol{A}^1 \\\\\n",
    "\t\\boldsymbol{A}^2 \\\\\n",
    "\t\\vdots \\\\\n",
    "\t\\boldsymbol{A}^{Np} \\\\\n",
    "\\end{bmatrix}\n",
    ",\\quad\n",
    "\\boldsymbol{\\theta}=\n",
    "\\begin{bmatrix}\n",
    "\t\\boldsymbol{A}^0 & \\cdots \\\\\n",
    "\t\\boldsymbol{A}^1 & \\boldsymbol{A}^0 & \\cdots \\\\\n",
    "\t\\vdots \\\\\n",
    "\t\\boldsymbol{A}^{Np-1} & \\cdots & \\boldsymbol{A}^{Np-Nc-1} & \\boldsymbol{A}^0\\\\\n",
    "\\end{bmatrix} \\boldsymbol{B}\n",
    ",\\quad\n",
    "\\boldsymbol{U}=\n",
    "\\begin{bmatrix}\n",
    "\t\\boldsymbol{u}_{k} \\\\\n",
    "\t\\boldsymbol{u}_{(k+1)} \\\\\n",
    "\t\\vdots \\\\\n",
    "\t\\boldsymbol{u}_{(k+Nc)} \\\\\n",
    "\\end{bmatrix}\n",
    "$$\n",
    "$N_p$为预测时域，$N_c$为控制时域。"
   ]
  },
  {
   "cell_type": "markdown",
   "id": "71177144",
   "metadata": {},
   "source": [
    "## Optimization\n",
    "采用二次规划优化，优化方程为：\n",
    "$$\n",
    "\\newcommand\\j{\\boldsymbol J}\n",
    "\\newcommand\\x{\\boldsymbol X}\n",
    "\\newcommand\\h{\\boldsymbol H}\n",
    "\\min\\j=\\frac{1}{2}\\x^T\\h\\x + f^T\\x\n",
    "$$\n",
    "其中：\n",
    "$$\n",
    "\\newcommand \\j {\\boldsymbol J}\n",
    "\\newcommand \\h {\\boldsymbol H}\n",
    "\\newcommand \\e {\\boldsymbol E}\n",
    "\\newcommand \\q {\\boldsymbol Q}\n",
    "\\newcommand \\r {\\boldsymbol R}\n",
    "\\newcommand \\th {\\boldsymbol \\theta}\n",
    "\\newcommand \\ph {\\boldsymbol \\phi}\n",
    "\\left\\{\n",
    "    \\begin{array}{ll}\n",
    "        \\h=2(\\th^T\\q\\th+\\r) \\\\\n",
    "        f^T=2\\ph(\\tilde{\\xi}_k-\\tilde\\xi_{ref})\\q\\th\t\n",
    "    \\end{array}\n",
    "\\right.\n",
    "$$\n",
    "$Q$、$R$分别为状态量和控制量的权重矩阵。"
   ]
  }
 ],
 "metadata": {
  "kernelspec": {
   "display_name": "Python 3 (ipykernel)",
   "language": "python",
   "name": "python3"
  },
  "language_info": {
   "codemirror_mode": {
    "name": "ipython",
    "version": 3
   },
   "file_extension": ".py",
   "mimetype": "text/x-python",
   "name": "python",
   "nbconvert_exporter": "python",
   "pygments_lexer": "ipython3",
   "version": "3.9.16"
  }
 },
 "nbformat": 4,
 "nbformat_minor": 5
}
